{
 "cells": [
  {
   "cell_type": "markdown",
   "metadata": {},
   "source": [
    "## THE BATTLE OF NEIGHBORHOODS (BUSINESS PROPOSAL)"
   ]
  },
  {
   "cell_type": "markdown",
   "metadata": {},
   "source": [
    "### Introduction :"
   ]
  },
  {
   "cell_type": "markdown",
   "metadata": {},
   "source": [
    "### Description and Discussion of Problem (Problem Statement)"
   ]
  },
  {
   "cell_type": "markdown",
   "metadata": {},
   "source": [
    "Peter is an international business man and he is always looking for new opportunities around the world. Recently, He wants to start his restaurant business in north America. After tons of research, he is finally down to two cities: New York and Toronto. Both cities are very diverse and are the financial capitals of their respective countries. Peter thinks the safest way is to compare the neighborhoods of the two cities and determine how similar or dissimilar they are and then he can get more helpful information for making informed decisions."
   ]
  },
  {
   "cell_type": "markdown",
   "metadata": {},
   "source": [
    "### Data Description"
   ]
  },
  {
   "cell_type": "markdown",
   "metadata": {},
   "source": [
    "Firstly, we need to fetch and explore neighborhoods data of those two cities from Foursquare API. The information we want to focus on are restaurants, parks, coffee shops and entertainment venues. We will choose one neighborhood from each city: Brooklyn for New York and Etobicoke for Toronto. We need to apply Neighborhood Segmentation and Clustering to analyzing the neighborhood data and prioritize the best restaurant location in both cities based on foot traffic, presence of existing restuarant and type of restaurants. Lastly, we can decide which city is the better place for Peter to get started with his business."
   ]
  },
  {
   "cell_type": "markdown",
   "metadata": {},
   "source": [
    "### Methodology (How the problem will be solved)"
   ]
  },
  {
   "cell_type": "markdown",
   "metadata": {},
   "source": [
    "We need to explore two cities one by one with the same methodology. It is important to know that in the earlier weeks, we have been have to scrap the wikipedia page for data of these cities and they have been cleaned. So, we will take the processed Toronto data from week 3 but only include Etobicoke of Toronto for this project. For the New York Brookly?n data, we will extract that part of data from the previous data file, Then explore both cities by using Foursquare API and visualize the results separately."
   ]
  },
  {
   "cell_type": "markdown",
   "metadata": {},
   "source": [
    "### Results"
   ]
  },
  {
   "cell_type": "markdown",
   "metadata": {},
   "source": [
    "The images containing the results of my data analysis are included in the week5_Assignment directory on github in the images folder."
   ]
  },
  {
   "cell_type": "markdown",
   "metadata": {},
   "source": [
    "### Discussion/Recommendation"
   ]
  },
  {
   "cell_type": "markdown",
   "metadata": {},
   "source": [
    "Peter, the international business man can then from this groupings of the ten most common venues in all the neighbourhoods of Etobicoke, Toronto and Brooklyn Newyork pick a more favourable and pleasing venue for his business based on whatever parameters he deems fit. The location data has been carefully analysed and cleaned and insight has been given to him. We leave him to make his business decisions after keeping him informed and abreast of the situation of both cities and boroughs."
   ]
  },
  {
   "cell_type": "markdown",
   "metadata": {},
   "source": [
    "### Conclusion"
   ]
  },
  {
   "cell_type": "markdown",
   "metadata": {},
   "source": [
    "We have been able to solve the problem of where to start Mr. Peter's business for inreased productivity and sales which is one of the very importance of data science; proffering solutions of which may include increased productivity and sales."
   ]
  }
 ],
 "metadata": {
  "kernelspec": {
   "display_name": "Python",
   "language": "python",
   "name": "conda-env-python-py"
  },
  "language_info": {
   "codemirror_mode": {
    "name": "ipython",
    "version": 3
   },
   "file_extension": ".py",
   "mimetype": "text/x-python",
   "name": "python",
   "nbconvert_exporter": "python",
   "pygments_lexer": "ipython3",
   "version": "3.6.11"
  }
 },
 "nbformat": 4,
 "nbformat_minor": 4
}
